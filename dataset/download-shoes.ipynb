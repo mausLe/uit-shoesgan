{
  "nbformat": 4,
  "nbformat_minor": 0,
  "metadata": {
    "colab": {
      "name": "download.ipynb",
      "provenance": [],
      "collapsed_sections": []
    },
    "kernelspec": {
      "name": "python3",
      "display_name": "Python 3"
    }
  },
  "cells": [
    {
      "cell_type": "code",
      "metadata": {
        "id": "w-JR8Bc7Cr9u",
        "colab_type": "code",
        "colab": {}
      },
      "source": [
        "import os\n",
        "import re\n",
        "import requests\n",
        "import random\n",
        "import json\n",
        "import glob\n",
        "import shutil\n",
        "import multiprocessing as mp\n",
        "from PIL import Image\n",
        "from tqdm import tqdm\n",
        "\n",
        "random.seed(2020)\n",
        "\n",
        "output_size = 512\n",
        "num_workers = 8\n",
        "\n",
        "KEYS = ['PAIR', 'TOPP', 'BOTT', 'LEFT', 'BACK', 'RGHT', 'FRNT']\n",
        "# only download 1 key at a time (because colab can't handle too large files)\n",
        "KEYS_DOWNLOAD = KEYS[6]"
      ],
      "execution_count": 0,
      "outputs": []
    },
    {
      "cell_type": "code",
      "metadata": {
        "id": "RjWHvXBVu41s",
        "colab_type": "code",
        "colab": {}
      },
      "source": [
        "# create folder holding downloaded items\n",
        "os.makedirs(KEYS_DOWNLOAD.lower(), exist_ok=True)\n",
        "\n",
        "# load dataset\n",
        "if not os.path.exists('dataset.json'):\n",
        "    shutil.copy('drive/My Drive/dataset.json', '.')\n",
        "\n",
        "with open('dataset.json', 'r') as f:\n",
        "    DATASET = json.load(f)"
      ],
      "execution_count": 0,
      "outputs": []
    },
    {
      "cell_type": "code",
      "metadata": {
        "id": "rhxqkVs_Q_LM",
        "colab_type": "code",
        "colab": {}
      },
      "source": [
        "# request using proxies to prevent IP banned\n",
        "PROXIES = None # list of proxies\n",
        "\n",
        "def get_proxies():\n",
        "    \"\"\"Get all proxies from free-proxy-list.net\"\"\"\n",
        "    res = requests.get('https://free-proxy-list.net/')\n",
        "    pattern = r'<tr><td>([\\d\\.]+)<\\/td><td>([\\d]+)<\\/td>'\n",
        "    proxies = re.findall(pattern, res.text)\n",
        "    proxies = ['http://{}:{}'.format(ip, port) for (ip, port) in proxies[:20]]\n",
        "    return proxies\n",
        "\n",
        "def _request(url):\n",
        "    \"\"\"request with proxies\"\"\"\n",
        "    for proxy in random.sample(PROXIES, len(PROXIES)):\n",
        "        try:\n",
        "            res = requests.get(url, proxies={'http': proxy})\n",
        "            return res\n",
        "        except:\n",
        "            pass\n",
        "    # all proxies are dead\n",
        "    return None\n",
        "\n",
        "def request(url):\n",
        "    \"\"\"request and update new PROXIES\"\"\"\n",
        "    global PROXIES\n",
        "    if PROXIES is None:\n",
        "        PROXIES = get_proxies()\n",
        "    res = _request(url)\n",
        "    if res:\n",
        "        return res\n",
        "    # refresh proxies\n",
        "    PROXIES = get_proxies()\n",
        "    res = _request(url)\n",
        "    return res"
      ],
      "execution_count": 0,
      "outputs": []
    },
    {
      "cell_type": "code",
      "metadata": {
        "id": "q4R-3O52S5LW",
        "colab_type": "code",
        "colab": {}
      },
      "source": [
        "def download(idx):\n",
        "    \"\"\"download using multiprocessing\"\"\"\n",
        "    if idx >= len(DATASET):\n",
        "        return\n",
        "    img_id = list(DATASET.keys())[idx]\n",
        "    img_data = DATASET[img_id]\n",
        "\n",
        "    if KEYS_DOWNLOAD not in img_data['images']:\n",
        "        return\n",
        "    link = img_data['images'][KEYS_DOWNLOAD]\n",
        "    output = os.path.join(KEYS_DOWNLOAD.lower(), '{}-{}.png'.format(img_id, KEYS_DOWNLOAD.lower()))\n",
        "    if not os.path.exists(output):\n",
        "        # download\n",
        "        res = request(link)\n",
        "        with open(output, 'wb') as f:\n",
        "            f.write(res.content)\n"
      ],
      "execution_count": 0,
      "outputs": []
    },
    {
      "cell_type": "code",
      "metadata": {
        "id": "OKRKOQ4MSksg",
        "colab_type": "code",
        "outputId": "86158e06-dec3-471e-d62d-b146ccfaa828",
        "colab": {
          "base_uri": "https://localhost:8080/",
          "height": 34
        }
      },
      "source": [
        "# download using multiprocessing (tested on colab)\n",
        "pool = mp.Pool(num_workers)\n",
        "for i in tqdm(range((len(list(DATASET.keys())) + num_workers)//num_workers)):\n",
        "    args = [num_workers*i + j for j in range(num_workers)]\n",
        "    pool.map(download, args)"
      ],
      "execution_count": 45,
      "outputs": [
        {
          "output_type": "stream",
          "text": [
            "100%|██████████| 8995/8995 [43:11<00:00,  3.47it/s]\n"
          ],
          "name": "stderr"
        }
      ]
    },
    {
      "cell_type": "code",
      "metadata": {
        "id": "k-6EPIX5vxEm",
        "colab_type": "code",
        "outputId": "d5c9fc70-bf13-432f-8e6c-9a0d56f553a5",
        "colab": {
          "base_uri": "https://localhost:8080/",
          "height": 34
        }
      },
      "source": [
        "# delete broken images\n",
        "images = glob.glob('*/*.png')\n",
        "for img in tqdm(images):\n",
        "    try:\n",
        "        Image.open(img)\n",
        "    except:\n",
        "        print('{} broken'.format(img))\n",
        "        os.remove(img)"
      ],
      "execution_count": 46,
      "outputs": [
        {
          "output_type": "stream",
          "text": [
            "100%|██████████| 71488/71488 [01:41<00:00, 702.12it/s]\n"
          ],
          "name": "stderr"
        }
      ]
    },
    {
      "cell_type": "code",
      "metadata": {
        "id": "GfXim-rzl_9h",
        "colab_type": "code",
        "outputId": "c5b3c302-5a9c-4799-e652-0de08ed21cf2",
        "colab": {
          "base_uri": "https://localhost:8080/",
          "height": 34
        }
      },
      "source": [
        "images = glob.glob('*/*.png')\n",
        "parts = {}\n",
        "cur_key = 0\n",
        "for img in tqdm(images):\n",
        "    if cur_key == 0:\n",
        "        cur_key = 1\n",
        "        parts[cur_key] = {'size':0, 'files':[]}\n",
        "    if parts[cur_key]['size'] >= 1024*1024*1024:\n",
        "        cur_key += 1\n",
        "        parts[cur_key] = {'size':0, 'files':[]}\n",
        "    parts[cur_key]['size'] += os.path.getsize(img)\n",
        "    parts[cur_key]['files'].append(img)"
      ],
      "execution_count": 47,
      "outputs": [
        {
          "output_type": "stream",
          "text": [
            "100%|██████████| 71488/71488 [00:00<00:00, 211885.69it/s]\n"
          ],
          "name": "stderr"
        }
      ]
    },
    {
      "cell_type": "code",
      "metadata": {
        "id": "lQr4y3haRGkE",
        "colab_type": "code",
        "colab": {}
      },
      "source": [
        "# zipping using multiprocessing\n",
        "def zipping(key):\n",
        "    if key not in parts.keys():\n",
        "        return\n",
        "    output_folder = '{}-part{:02}'.format(KEYS_DOWNLOAD.lower(), key)\n",
        "    os.makedirs(output_folder)\n",
        "    for img in parts[key]['files']:\n",
        "        shutil.copy(img, output_folder)\n",
        "    shutil.make_archive(output_folder, format='zip', root_dir=output_folder)\n",
        "    shutil.rmtree(output_folder)"
      ],
      "execution_count": 0,
      "outputs": []
    },
    {
      "cell_type": "code",
      "metadata": {
        "id": "_qHOcEVICOvw",
        "colab_type": "code",
        "colab": {}
      },
      "source": [
        "# moving files using multiprocessing\n",
        "root = '/content/drive/My Drive/uit-shoesgan'\n",
        "\n",
        "images = glob.glob('*/*.png')\n",
        "images_folder = os.path.join(root, 'images', KEYS_DOWNLOAD.lower())\n",
        "os.makedirs(images_folder, exist_ok=True)\n",
        "def moving_images(idx):\n",
        "    if idx >= len(images):\n",
        "        return\n",
        "    shutil.move(images[idx], images_folder)\n",
        "\n",
        "# move zip files into drive\n",
        "all_zips = glob.glob('*zip')\n",
        "zips_folder = os.path.join(root, 'zips', KEYS_DOWNLOAD.lower())\n",
        "os.makedirs(zips_folder, exist_ok=True)\n",
        "def moving_zips(idx):\n",
        "    if idx >= len(all_zips):\n",
        "        return\n",
        "    shutil.move(all_zips[idx], zips_folder)"
      ],
      "execution_count": 0,
      "outputs": []
    },
    {
      "cell_type": "code",
      "metadata": {
        "id": "ZEMEisyVTgBh",
        "colab_type": "code",
        "outputId": "81301d9d-ef3a-4887-e642-198ed4682c58",
        "colab": {
          "base_uri": "https://localhost:8080/",
          "height": 34
        }
      },
      "source": [
        "pool = mp.Pool(num_workers)\n",
        "for i in tqdm(range((len(parts) + num_workers)//num_workers)):\n",
        "    args = [num_workers*i + j for j in range(num_workers)]\n",
        "    pool.map(zipping, args)"
      ],
      "execution_count": 50,
      "outputs": [
        {
          "output_type": "stream",
          "text": [
            "100%|██████████| 2/2 [08:31<00:00, 255.96s/it]\n"
          ],
          "name": "stderr"
        }
      ]
    },
    {
      "cell_type": "code",
      "metadata": {
        "id": "MS4fCl-XEU-s",
        "colab_type": "code",
        "outputId": "ea1d3aca-2db6-4ca6-bb31-7841061aa2f4",
        "colab": {
          "base_uri": "https://localhost:8080/",
          "height": 67
        }
      },
      "source": [
        "pool = mp.Pool(num_workers)\n",
        "for i in tqdm(range((len(images) + num_workers)//num_workers)):\n",
        "    args = [num_workers*i + j for j in range(num_workers)]\n",
        "    pool.map(moving_images, args)\n",
        "print('\\nImages: {}, {}'.format(len(images), len(os.listdir(images_folder))))"
      ],
      "execution_count": 51,
      "outputs": [
        {
          "output_type": "stream",
          "text": [
            "100%|██████████| 8937/8937 [1:12:04<00:00,  2.07it/s]\n"
          ],
          "name": "stderr"
        },
        {
          "output_type": "stream",
          "text": [
            "\n",
            "Images: 71488, 71488\n"
          ],
          "name": "stdout"
        }
      ]
    },
    {
      "cell_type": "code",
      "metadata": {
        "id": "9tSf-ZR9EPad",
        "colab_type": "code",
        "colab": {
          "base_uri": "https://localhost:8080/",
          "height": 67
        },
        "outputId": "772d647a-0180-4eef-bb35-13b06a951a35"
      },
      "source": [
        "all_zips = glob.glob('*zip')\n",
        "pool = mp.Pool(num_workers)\n",
        "for i in tqdm(range((len(all_zips) + num_workers)//num_workers)):\n",
        "    args = [num_workers*i + j for j in range(num_workers)]\n",
        "    pool.map(moving_zips, args)\n",
        "print('\\nZips: {}, {}'.format(len(all_zips), len(os.listdir(zips_folder))))"
      ],
      "execution_count": 52,
      "outputs": [
        {
          "output_type": "stream",
          "text": [
            "100%|██████████| 2/2 [02:00<00:00, 60.47s/it]"
          ],
          "name": "stderr"
        },
        {
          "output_type": "stream",
          "text": [
            "\n",
            "Zips: 9, 9\n"
          ],
          "name": "stdout"
        },
        {
          "output_type": "stream",
          "text": [
            "\n"
          ],
          "name": "stderr"
        }
      ]
    },
    {
      "cell_type": "code",
      "metadata": {
        "id": "ZbSTOpSGfqXD",
        "colab_type": "code",
        "colab": {
          "base_uri": "https://localhost:8080/",
          "height": 34
        },
        "outputId": "18e217e5-4c0e-47af-f23a-7c28fdd8a270"
      },
      "source": [
        "# text file to test images are all synced \n",
        "# because googlde drive take time to transfer all the images into specific folder\n",
        "done_file = '{}-done.txt'.format(KEYS_DOWNLOAD.lower())\n",
        "with open(done_file, 'w') as f:\n",
        "    f.write(':)')\n",
        "shutil.move(done_file, root)"
      ],
      "execution_count": 53,
      "outputs": [
        {
          "output_type": "execute_result",
          "data": {
            "text/plain": [
              "'/content/drive/My Drive/uit-shoesgan/frnt-done.txt'"
            ]
          },
          "metadata": {
            "tags": []
          },
          "execution_count": 53
        }
      ]
    },
    {
      "cell_type": "code",
      "metadata": {
        "id": "TUL_G6s4zsbr",
        "colab_type": "code",
        "colab": {
          "base_uri": "https://localhost:8080/",
          "height": 1000
        },
        "outputId": "6684626e-f518-4961-978a-2f1deaef8262"
      },
      "source": [
        "sorted(glob.glob('/content/drive/My Drive/uit-shoesgan/zips/*/*zip'))"
      ],
      "execution_count": 54,
      "outputs": [
        {
          "output_type": "execute_result",
          "data": {
            "text/plain": [
              "['/content/drive/My Drive/uit-shoesgan/zips/back/back-part01.zip',\n",
              " '/content/drive/My Drive/uit-shoesgan/zips/back/back-part02.zip',\n",
              " '/content/drive/My Drive/uit-shoesgan/zips/back/back-part03.zip',\n",
              " '/content/drive/My Drive/uit-shoesgan/zips/back/back-part04.zip',\n",
              " '/content/drive/My Drive/uit-shoesgan/zips/back/back-part05.zip',\n",
              " '/content/drive/My Drive/uit-shoesgan/zips/back/back-part06.zip',\n",
              " '/content/drive/My Drive/uit-shoesgan/zips/back/back-part07.zip',\n",
              " '/content/drive/My Drive/uit-shoesgan/zips/back/back-part08.zip',\n",
              " '/content/drive/My Drive/uit-shoesgan/zips/bott/bott-part01.zip',\n",
              " '/content/drive/My Drive/uit-shoesgan/zips/bott/bott-part02.zip',\n",
              " '/content/drive/My Drive/uit-shoesgan/zips/bott/bott-part03.zip',\n",
              " '/content/drive/My Drive/uit-shoesgan/zips/bott/bott-part04.zip',\n",
              " '/content/drive/My Drive/uit-shoesgan/zips/bott/bott-part05.zip',\n",
              " '/content/drive/My Drive/uit-shoesgan/zips/bott/bott-part06.zip',\n",
              " '/content/drive/My Drive/uit-shoesgan/zips/bott/bott-part07.zip',\n",
              " '/content/drive/My Drive/uit-shoesgan/zips/bott/bott-part08.zip',\n",
              " '/content/drive/My Drive/uit-shoesgan/zips/bott/bott-part09.zip',\n",
              " '/content/drive/My Drive/uit-shoesgan/zips/bott/bott-part10.zip',\n",
              " '/content/drive/My Drive/uit-shoesgan/zips/bott/bott-part11.zip',\n",
              " '/content/drive/My Drive/uit-shoesgan/zips/bott/bott-part12.zip',\n",
              " '/content/drive/My Drive/uit-shoesgan/zips/frnt/frnt-part01.zip',\n",
              " '/content/drive/My Drive/uit-shoesgan/zips/frnt/frnt-part02.zip',\n",
              " '/content/drive/My Drive/uit-shoesgan/zips/frnt/frnt-part03.zip',\n",
              " '/content/drive/My Drive/uit-shoesgan/zips/frnt/frnt-part04.zip',\n",
              " '/content/drive/My Drive/uit-shoesgan/zips/frnt/frnt-part05.zip',\n",
              " '/content/drive/My Drive/uit-shoesgan/zips/frnt/frnt-part06.zip',\n",
              " '/content/drive/My Drive/uit-shoesgan/zips/frnt/frnt-part07.zip',\n",
              " '/content/drive/My Drive/uit-shoesgan/zips/frnt/frnt-part08.zip',\n",
              " '/content/drive/My Drive/uit-shoesgan/zips/frnt/frnt-part09.zip',\n",
              " '/content/drive/My Drive/uit-shoesgan/zips/left/left-part01.zip',\n",
              " '/content/drive/My Drive/uit-shoesgan/zips/left/left-part02.zip',\n",
              " '/content/drive/My Drive/uit-shoesgan/zips/left/left-part03.zip',\n",
              " '/content/drive/My Drive/uit-shoesgan/zips/left/left-part04.zip',\n",
              " '/content/drive/My Drive/uit-shoesgan/zips/left/left-part05.zip',\n",
              " '/content/drive/My Drive/uit-shoesgan/zips/left/left-part06.zip',\n",
              " '/content/drive/My Drive/uit-shoesgan/zips/left/left-part07.zip',\n",
              " '/content/drive/My Drive/uit-shoesgan/zips/left/left-part08.zip',\n",
              " '/content/drive/My Drive/uit-shoesgan/zips/left/left-part09.zip',\n",
              " '/content/drive/My Drive/uit-shoesgan/zips/left/left-part10.zip',\n",
              " '/content/drive/My Drive/uit-shoesgan/zips/left/left-part11.zip',\n",
              " '/content/drive/My Drive/uit-shoesgan/zips/left/left-part12.zip',\n",
              " '/content/drive/My Drive/uit-shoesgan/zips/left/left-part13.zip',\n",
              " '/content/drive/My Drive/uit-shoesgan/zips/left/left-part14.zip',\n",
              " '/content/drive/My Drive/uit-shoesgan/zips/pair/pair-part01.zip',\n",
              " '/content/drive/My Drive/uit-shoesgan/zips/pair/pair-part02.zip',\n",
              " '/content/drive/My Drive/uit-shoesgan/zips/pair/pair-part03.zip',\n",
              " '/content/drive/My Drive/uit-shoesgan/zips/pair/pair-part04.zip',\n",
              " '/content/drive/My Drive/uit-shoesgan/zips/pair/pair-part05.zip',\n",
              " '/content/drive/My Drive/uit-shoesgan/zips/pair/pair-part06.zip',\n",
              " '/content/drive/My Drive/uit-shoesgan/zips/pair/pair-part07.zip',\n",
              " '/content/drive/My Drive/uit-shoesgan/zips/pair/pair-part08.zip',\n",
              " '/content/drive/My Drive/uit-shoesgan/zips/pair/pair-part09.zip',\n",
              " '/content/drive/My Drive/uit-shoesgan/zips/pair/pair-part10.zip',\n",
              " '/content/drive/My Drive/uit-shoesgan/zips/pair/pair-part11.zip',\n",
              " '/content/drive/My Drive/uit-shoesgan/zips/pair/pair-part12.zip',\n",
              " '/content/drive/My Drive/uit-shoesgan/zips/pair/pair-part13.zip',\n",
              " '/content/drive/My Drive/uit-shoesgan/zips/pair/pair-part14.zip',\n",
              " '/content/drive/My Drive/uit-shoesgan/zips/pair/pair-part15.zip',\n",
              " '/content/drive/My Drive/uit-shoesgan/zips/pair/pair-part16.zip',\n",
              " '/content/drive/My Drive/uit-shoesgan/zips/rght/rght-part01.zip',\n",
              " '/content/drive/My Drive/uit-shoesgan/zips/rght/rght-part02.zip',\n",
              " '/content/drive/My Drive/uit-shoesgan/zips/rght/rght-part03.zip',\n",
              " '/content/drive/My Drive/uit-shoesgan/zips/rght/rght-part04.zip',\n",
              " '/content/drive/My Drive/uit-shoesgan/zips/rght/rght-part05.zip',\n",
              " '/content/drive/My Drive/uit-shoesgan/zips/rght/rght-part06.zip',\n",
              " '/content/drive/My Drive/uit-shoesgan/zips/rght/rght-part07.zip',\n",
              " '/content/drive/My Drive/uit-shoesgan/zips/rght/rght-part08.zip',\n",
              " '/content/drive/My Drive/uit-shoesgan/zips/rght/rght-part09.zip',\n",
              " '/content/drive/My Drive/uit-shoesgan/zips/rght/rght-part10.zip',\n",
              " '/content/drive/My Drive/uit-shoesgan/zips/rght/rght-part11.zip',\n",
              " '/content/drive/My Drive/uit-shoesgan/zips/rght/rght-part12.zip',\n",
              " '/content/drive/My Drive/uit-shoesgan/zips/rght/rght-part13.zip',\n",
              " '/content/drive/My Drive/uit-shoesgan/zips/topp/topp-part01.zip',\n",
              " '/content/drive/My Drive/uit-shoesgan/zips/topp/topp-part02.zip',\n",
              " '/content/drive/My Drive/uit-shoesgan/zips/topp/topp-part03.zip',\n",
              " '/content/drive/My Drive/uit-shoesgan/zips/topp/topp-part04.zip',\n",
              " '/content/drive/My Drive/uit-shoesgan/zips/topp/topp-part05.zip',\n",
              " '/content/drive/My Drive/uit-shoesgan/zips/topp/topp-part06.zip',\n",
              " '/content/drive/My Drive/uit-shoesgan/zips/topp/topp-part07.zip',\n",
              " '/content/drive/My Drive/uit-shoesgan/zips/topp/topp-part08.zip',\n",
              " '/content/drive/My Drive/uit-shoesgan/zips/topp/topp-part09.zip',\n",
              " '/content/drive/My Drive/uit-shoesgan/zips/topp/topp-part10.zip',\n",
              " '/content/drive/My Drive/uit-shoesgan/zips/topp/topp-part11.zip',\n",
              " '/content/drive/My Drive/uit-shoesgan/zips/topp/topp-part12.zip',\n",
              " '/content/drive/My Drive/uit-shoesgan/zips/topp/topp-part13.zip',\n",
              " '/content/drive/My Drive/uit-shoesgan/zips/topp/topp-part14.zip']"
            ]
          },
          "metadata": {
            "tags": []
          },
          "execution_count": 54
        }
      ]
    },
    {
      "cell_type": "code",
      "metadata": {
        "id": "tfPEu7By0LRu",
        "colab_type": "code",
        "colab": {}
      },
      "source": [
        ""
      ],
      "execution_count": 0,
      "outputs": []
    }
  ]
}