{
 "cells": [
  {
   "cell_type": "code",
   "execution_count": 0,
   "metadata": {
    "colab": {},
    "colab_type": "code",
    "id": "w-JR8Bc7Cr9u"
   },
   "outputs": [],
   "source": [
    "import os\n",
    "import re\n",
    "import requests\n",
    "import random\n",
    "import json\n",
    "import glob\n",
    "import shutil\n",
    "import multiprocessing as mp\n",
    "from PIL import Image\n",
    "from tqdm import tqdm\n",
    "\n",
    "random.seed(2020)\n",
    "\n",
    "output_size = 512\n",
    "num_workers = 8\n",
    "\n",
    "KEYS = ['PAIR', 'TOPP', 'BOTT', 'LEFT', 'BACK', 'RGHT', 'FRNT']\n",
    "# only download some keys, because its too large for colab\n",
    "KEYS_DOWNLOAD = KEYS[:1]"
   ]
  },
  {
   "cell_type": "code",
   "execution_count": 0,
   "metadata": {
    "colab": {},
    "colab_type": "code",
    "id": "RjWHvXBVu41s"
   },
   "outputs": [],
   "source": [
    "# create folders holding downloaded items\n",
    "for key in KEYS_DOWNLOAD:\n",
    "    os.makedirs(key.lower(), exist_ok=True)\n",
    "\n",
    "# load dataset\n",
    "if not os.path.exists('dataset.json'):\n",
    "    shutil.copy('drive/My Drive/dataset.json', '.')\n",
    "\n",
    "with open('dataset.json', 'r') as f:\n",
    "    DATASET = json.load(f)"
   ]
  },
  {
   "cell_type": "code",
   "execution_count": 0,
   "metadata": {
    "colab": {},
    "colab_type": "code",
    "id": "rhxqkVs_Q_LM"
   },
   "outputs": [],
   "source": [
    "# request using proxies to prevent IP banned\n",
    "\n",
    "PROXIES = None # list of proxies\n",
    "\n",
    "def get_proxies():\n",
    "    \"\"\"Get all proxies from free-proxy-list.net\"\"\"\n",
    "    res = requests.get('https://free-proxy-list.net/')\n",
    "    pattern = r'<tr><td>([\\d\\.]+)<\\/td><td>([\\d]+)<\\/td>'\n",
    "    proxies = re.findall(pattern, res.text)\n",
    "    proxies = ['http://{}:{}'.format(ip, port) for (ip, port) in proxies[:20]]\n",
    "    return proxies\n",
    "\n",
    "def _request(url):\n",
    "    \"\"\"request with proxies\"\"\"\n",
    "    for proxy in random.sample(PROXIES, len(PROXIES)):\n",
    "        try:\n",
    "            res = requests.get(url, proxies={'http': proxy})\n",
    "            return res\n",
    "        except:\n",
    "            pass\n",
    "    # all proxies are dead\n",
    "    return None\n",
    "\n",
    "def request(url):\n",
    "    \"\"\"request and update new PROXIES\"\"\"\n",
    "    global PROXIES\n",
    "    if PROXIES is None:\n",
    "        PROXIES = get_proxies()\n",
    "    res = _request(url)\n",
    "    if res:\n",
    "        return res\n",
    "    # refresh proxies\n",
    "    PROXIES = get_proxies()\n",
    "    res = _request(url)\n",
    "    return res"
   ]
  },
  {
   "cell_type": "code",
   "execution_count": 0,
   "metadata": {
    "colab": {},
    "colab_type": "code",
    "id": "q4R-3O52S5LW"
   },
   "outputs": [],
   "source": [
    "def download(idx):\n",
    "    \"\"\"download using multiprocessing\"\"\"\n",
    "\n",
    "    if idx >= len(DATASET):\n",
    "        return\n",
    "    img_id = list(DATASET.keys())[idx]\n",
    "    img_data = DATASET[img_id]\n",
    "\n",
    "    for key, link in img_data['images'].items():\n",
    "        if key not in KEYS_DOWNLOAD:\n",
    "            continue\n",
    "        output = os.path.join(key.lower(), '{}-{}.png'.format(img_id, key.lower()))\n",
    "        if not os.path.exists(output):\n",
    "            # download\n",
    "            res = request(link)\n",
    "            with open(output, 'wb') as f:\n",
    "                f.write(res.content)\n",
    "\n",
    "            # remove broken images\n",
    "            try:\n",
    "                im = Image.open(output).convert('RGB')\n",
    "            except:\n",
    "                os.remove(output)\n",
    "                continue\n",
    "\n",
    "            # resize into output_size\n",
    "            w, h = im.size\n",
    "            if (w, h) == (output_size, output_size):\n",
    "                continue\n",
    "            bg = Image.new('RGB', (max(im.size), max(im.size)), color=(255, 255, 255))\n",
    "            w1, h1, = bg.size\n",
    "            bg.paste(im, ((w1 - w)//2, (h1 - h)//2))\n",
    "            bg = bg.resize((output_size, output_size))\n",
    "            bg.save(output)"
   ]
  },
  {
   "cell_type": "code",
   "execution_count": 0,
   "metadata": {
    "colab": {
     "base_uri": "https://localhost:8080/",
     "height": 34
    },
    "colab_type": "code",
    "id": "OKRKOQ4MSksg",
    "outputId": "aef9b23e-5aa4-4c19-f64c-1c3581ffa8b6"
   },
   "outputs": [
    {
     "name": "stderr",
     "output_type": "stream",
     "text": [
      "  3%|▎         | 238/8995 [03:59<2:23:28,  1.02it/s]"
     ]
    }
   ],
   "source": [
    "pool = mp.Pool(num_workers)\n",
    "for i in tqdm(range((len(list(DATASET.keys())) + num_workers)//num_workers)):\n",
    "    args = [num_workers*i + j for j in range(num_workers)]\n",
    "    pool.map(download, args)"
   ]
  },
  {
   "cell_type": "code",
   "execution_count": 0,
   "metadata": {
    "colab": {},
    "colab_type": "code",
    "id": "k-6EPIX5vxEm"
   },
   "outputs": [],
   "source": [
    "# check if all images are squared (output_size x output_size)\n",
    "images = glob.glob('*/*.png')\n",
    "for img in tqdm(images):\n",
    "    im = Image.open(img)\n",
    "    if im.size != (output_size, output_size):\n",
    "        print(img)\n",
    "        break"
   ]
  },
  {
   "cell_type": "code",
   "execution_count": 0,
   "metadata": {
    "colab": {},
    "colab_type": "code",
    "id": "MAv1xcE9Zyvn"
   },
   "outputs": [],
   "source": [
    "# zip and save to drive\n",
    "save_folder = 'drive/My Drive/UIT-SHOESGAN/'\n",
    "for key in KEYS_DOWNLOAD:\n",
    "    shutil.make_archive(key.lower(), format='zip', root_dir=key.lower())\n",
    "    shutil.move('{}.zip'.format(key.lower()), save_folder)\n",
    "    shutil.move(key.lower(), save_folder)"
   ]
  },
  {
   "cell_type": "code",
   "execution_count": 0,
   "metadata": {
    "colab": {},
    "colab_type": "code",
    "id": "ytqwtALQFH-d"
   },
   "outputs": [],
   "source": []
  }
 ],
 "metadata": {
  "colab": {
   "collapsed_sections": [],
   "name": "download.ipynb",
   "provenance": []
  },
  "kernelspec": {
   "display_name": "Python 3",
   "language": "python",
   "name": "python3"
  },
  "language_info": {
   "codemirror_mode": {
    "name": "ipython",
    "version": 3
   },
   "file_extension": ".py",
   "mimetype": "text/x-python",
   "name": "python",
   "nbconvert_exporter": "python",
   "pygments_lexer": "ipython3",
   "version": "3.7.6"
  }
 },
 "nbformat": 4,
 "nbformat_minor": 1
}
