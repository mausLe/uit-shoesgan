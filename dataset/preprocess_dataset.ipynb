{
 "cells": [
  {
   "cell_type": "markdown",
   "metadata": {
    "colab_type": "text",
    "id": "5Ysg04Qo3QpU"
   },
   "source": [
    "# Preprocess dataset\n",
    "Remove invalid views, images, etc."
   ]
  },
  {
   "cell_type": "code",
   "execution_count": 1,
   "metadata": {
    "colab": {},
    "colab_type": "code",
    "id": "DMcGsK7F3QpW"
   },
   "outputs": [
    {
     "name": "stderr",
     "output_type": "stream",
     "text": [
      "\n",
      "Bad key \"text.kerning_factor\" on line 4 in\n",
      "c:\\anaconda\\lib\\site-packages\\matplotlib\\mpl-data\\stylelib\\_classic_test_patch.mplstyle.\n",
      "You probably need to get an updated matplotlibrc file from\n",
      "https://github.com/matplotlib/matplotlib/blob/v3.1.3/matplotlibrc.template\n",
      "or from the matplotlib source distribution\n"
     ]
    }
   ],
   "source": [
    "import os\n",
    "import re\n",
    "import json\n",
    "import requests\n",
    "\n",
    "import numpy as np\n",
    "import seaborn as sns\n",
    "import matplotlib.pyplot as plt\n",
    "from tqdm import tqdm"
   ]
  },
  {
   "cell_type": "code",
   "execution_count": 2,
   "metadata": {
    "colab": {},
    "colab_type": "code",
    "id": "bOvXon0u3Qpd"
   },
   "outputs": [],
   "source": [
    "# Load dataset\n",
    "if not os.path.exists('dataset.json'):\n",
    "    url = 'https://raw.githubusercontent.com/thilove98/uit-shoesgan/master/dataset/dataset.json'\n",
    "    res = requests.get(url)\n",
    "    dataset = json.loads(res.text)\n",
    "else:\n",
    "    with open('dataset.json') as f:\n",
    "        dataset = json.load(f)"
   ]
  },
  {
   "cell_type": "markdown",
   "metadata": {
    "colab_type": "text",
    "id": "KxXfGqJR3Qph"
   },
   "source": [
    "## Remove invalid keys"
   ]
  },
  {
   "cell_type": "code",
   "execution_count": 3,
   "metadata": {
    "colab": {
     "base_uri": "https://localhost:8080/",
     "height": 38
    },
    "colab_type": "code",
    "executionInfo": {
     "elapsed": 6669,
     "status": "ok",
     "timestamp": 1592215870090,
     "user": {
      "displayName": "KHANH DUONG QUOC",
      "photoUrl": "",
      "userId": "16364624511503240129"
     },
     "user_tz": -420
    },
    "id": "Yfok_hg03Qpi",
    "outputId": "4b4e37bb-89e9-47de-e986-e1cd5601312d"
   },
   "outputs": [
    {
     "name": "stdout",
     "output_type": "stream",
     "text": [
      "['PAIR', 'TOPP', 'BOTT', 'LEFT', 'BACK', 'RGHT', 'FRNT', 'MAIN']\n"
     ]
    }
   ],
   "source": [
    "# Get all views\n",
    "def get_all_views(dataset):\n",
    "    views = []\n",
    "    for key, value in dataset.items():\n",
    "        for k in value['images'].keys():\n",
    "            if k not in views:\n",
    "                views.append(k)\n",
    "    return views\n",
    "\n",
    "print(get_all_views(dataset))"
   ]
  },
  {
   "cell_type": "code",
   "execution_count": 4,
   "metadata": {
    "colab": {
     "base_uri": "https://localhost:8080/",
     "height": 38
    },
    "colab_type": "code",
    "executionInfo": {
     "elapsed": 6650,
     "status": "ok",
     "timestamp": 1592215870092,
     "user": {
      "displayName": "KHANH DUONG QUOC",
      "photoUrl": "",
      "userId": "16364624511503240129"
     },
     "user_tz": -420
    },
    "id": "qcJIsNVP3Qpn",
    "outputId": "845ff5f3-7d5e-4c30-e148-c310bf39fd47"
   },
   "outputs": [
    {
     "name": "stdout",
     "output_type": "stream",
     "text": [
      "['PAIR', 'TOPP', 'BOTT', 'LEFT', 'BACK', 'RGHT', 'FRNT']\n"
     ]
    }
   ],
   "source": [
    "# Delete invalid keys\n",
    "\n",
    "valid_views = ['PAIR', 'TOPP', 'BOTT', 'LEFT', 'BACK', 'RGHT', 'FRNT']\n",
    "\n",
    "for key, value in dataset.items():\n",
    "    views = list(value['images'].keys())\n",
    "    for v in views:\n",
    "        if v not in valid_views:\n",
    "            value['images'].pop(v)\n",
    "\n",
    "print(get_all_views(dataset))"
   ]
  },
  {
   "cell_type": "markdown",
   "metadata": {
    "colab_type": "text",
    "id": "RkLB98VI3Qpr"
   },
   "source": [
    "## Change duplicated genders"
   ]
  },
  {
   "cell_type": "code",
   "execution_count": 5,
   "metadata": {
    "colab": {
     "base_uri": "https://localhost:8080/",
     "height": 58
    },
    "colab_type": "code",
    "executionInfo": {
     "elapsed": 6633,
     "status": "ok",
     "timestamp": 1592215870093,
     "user": {
      "displayName": "KHANH DUONG QUOC",
      "photoUrl": "",
      "userId": "16364624511503240129"
     },
     "user_tz": -420
    },
    "id": "A4AwjE2e3Qps",
    "outputId": "2460500b-1a05-40ba-e8ec-2ed174c364fe"
   },
   "outputs": [
    {
     "name": "stdout",
     "output_type": "stream",
     "text": [
      "['general', 'women', '[\"Men\",\"Women\"]', 'men', '[\"Women\"]', 'womens', '[\"Womens\"]', 'mens', '[\"Men\"]', 'boys', '[\"Mens\"]', 'kids', 'girls', 'unisex', '[\"Girls\"]']\n"
     ]
    }
   ],
   "source": [
    "# Get all genders\n",
    "def get_all_genders(dataset):\n",
    "    genders = []\n",
    "    for key, value in dataset.items():\n",
    "        if value['info']['gender'] not in genders:\n",
    "            genders.append(value['info']['gender'])\n",
    "    return genders\n",
    "\n",
    "print(get_all_genders(dataset))"
   ]
  },
  {
   "cell_type": "code",
   "execution_count": 6,
   "metadata": {
    "colab": {
     "base_uri": "https://localhost:8080/",
     "height": 38
    },
    "colab_type": "code",
    "executionInfo": {
     "elapsed": 6617,
     "status": "ok",
     "timestamp": 1592215870095,
     "user": {
      "displayName": "KHANH DUONG QUOC",
      "photoUrl": "",
      "userId": "16364624511503240129"
     },
     "user_tz": -420
    },
    "id": "Lp7XO8LW3Qpw",
    "outputId": "09d315eb-07cc-49b7-986a-21a27eea67e4"
   },
   "outputs": [
    {
     "name": "stdout",
     "output_type": "stream",
     "text": [
      "['general', 'women', 'men', 'boy', 'kid', 'girl']\n"
     ]
    }
   ],
   "source": [
    "def change_gender(text):\n",
    "    for c in '\"[]\"':\n",
    "        text = text.replace(c, '')\n",
    "    texts = text.split(',')\n",
    "    if len(texts) > 1 or text == 'unisex':\n",
    "        return 'general'\n",
    "    text = text.replace('s', '').lower()\n",
    "    return text\n",
    "\n",
    "for key, value in dataset.items():\n",
    "    value['info']['gender'] = change_gender(value['info']['gender'])\n",
    "    \n",
    "print(get_all_genders(dataset))"
   ]
  },
  {
   "cell_type": "markdown",
   "metadata": {
    "colab_type": "text",
    "id": "0Je8akFj3Qp0"
   },
   "source": [
    "## Remove duplicated brands\n",
    "\n",
    "Remove some duplicated brands, i.e `adidas` refer to `adidas Skateboarding` and `adidas Originals`"
   ]
  },
  {
   "cell_type": "code",
   "execution_count": 7,
   "metadata": {
    "colab": {},
    "colab_type": "code",
    "id": "nFMdKH0Z3Qp1"
   },
   "outputs": [],
   "source": [
    "def get_all_brands(dataset):\n",
    "    brands = []\n",
    "    for key, value in dataset.items():\n",
    "        if value['info']['brand'] not in brands:\n",
    "            brands.append(value['info']['brand'])\n",
    "    return brands"
   ]
  },
  {
   "cell_type": "code",
   "execution_count": 8,
   "metadata": {
    "colab": {},
    "colab_type": "code",
    "id": "tsGD0YRU3Qp5"
   },
   "outputs": [],
   "source": [
    "def create_brands_map(dataset):\n",
    "    # get some well-known brands\n",
    "    url = 'https://poshmark.com/brands'\n",
    "    res = requests.get(url)\n",
    "    known_brands = re.findall(r'<a href=\"brand/(.+)\" class=\"d--b\">', res.text)\n",
    "    known_brands = [x.replace('_', ' ').replace('amp;', '') for x in known_brands]\n",
    "    known_brands = sorted(known_brands, key=lambda x:len(x), reverse=True)\n",
    "    \n",
    "    all_brands = get_all_brands(dataset)\n",
    "    \n",
    "    res = {}\n",
    "    \n",
    "    # brands with a single name or has the same name in known-brands\n",
    "    for x in all_brands:\n",
    "        if ' ' not in x:\n",
    "            res[x] = x\n",
    "            continue\n",
    "        for y in known_brands:\n",
    "            if x.lower() == y.lower():\n",
    "                res[x] = y\n",
    "                break\n",
    "                \n",
    "    # brands with duplicated name\n",
    "    for x in all_brands:\n",
    "        if x in res:\n",
    "            continue\n",
    "        for k in list(res.keys()):\n",
    "            if k == 'On': #skip special keys\n",
    "                continue\n",
    "            if k in x:\n",
    "                res[x] = k\n",
    "                break\n",
    "                \n",
    "    # some special brands name\n",
    "    exceptions = {\n",
    "            'SOLE \\\\u002F SOCIETY': 'Sole Society',\n",
    "            'GBG Los Angeles': 'GBG Los Angeles',\n",
    "            'Cecelia New York': 'Cecelia New York',\n",
    "            'EMU Australia Kids': 'Emu',\n",
    "            'Iron Age': 'Iron Age',\n",
    "            'Jacques Soloviere Paris': 'Jacques Soloviere Paris',\n",
    "            'Red Wing Heritage': 'Red Wing',\n",
    "            'STEVEN NEW YORK': 'STEVEN NEW YORK',\n",
    "            'Sea Star Beachwear': 'Sea Star Beachwear',\n",
    "            'Vintage Foundry': 'Vintage Foundry',\n",
    "            'Walking Cradles': 'Walking Cradles',\n",
    "            'Wolf & Shepherd': 'Wolf & Shepherd',\n",
    "            'J&M Collection' : 'J&M',\n",
    "            'J&M EST. 1850': 'J&M',\n",
    "            }\n",
    "    \n",
    "    # set brands in exceptions\n",
    "    for x in exceptions:\n",
    "        res[x] = exceptions[x]\n",
    "    \n",
    "    # set brands in knowns brands with some modified\n",
    "    for x in all_brands:\n",
    "        if x in res:\n",
    "            continue\n",
    "        for y in known_brands:\n",
    "            if len(y) < 3:\n",
    "                continue\n",
    "            if x.lower().replace(' ', '') in y.lower().replace(' ', ''):\n",
    "                res[x] = x\n",
    "                break\n",
    "            elif y.lower().replace(' ', '') in x.lower().replace(' ', ''):\n",
    "                res[x] = y\n",
    "                break\n",
    "    \n",
    "    # add some leftovers\n",
    "    for x in all_brands:\n",
    "        if x in res:\n",
    "            continue\n",
    "        y = x.replace('Kids', '').strip()\n",
    "        res[x] = y\n",
    "    \n",
    "    return res"
   ]
  },
  {
   "cell_type": "code",
   "execution_count": 9,
   "metadata": {
    "colab": {},
    "colab_type": "code",
    "id": "zfu2745m5Av6"
   },
   "outputs": [],
   "source": [
    "brands_map = create_brands_map(dataset)\n",
    "for k, v in dataset.items():\n",
    "    brand = v['info']['brand']\n",
    "    v['info']['brand'] = brands_map[brand]"
   ]
  },
  {
   "cell_type": "code",
   "execution_count": 10,
   "metadata": {
    "colab": {
     "base_uri": "https://localhost:8080/",
     "height": 38
    },
    "colab_type": "code",
    "executionInfo": {
     "elapsed": 10877,
     "status": "ok",
     "timestamp": 1592215874521,
     "user": {
      "displayName": "KHANH DUONG QUOC",
      "photoUrl": "",
      "userId": "16364624511503240129"
     },
     "user_tz": -420
    },
    "id": "_cdcOmM_RAlD",
    "outputId": "75d6348c-5ab6-4cf5-f2af-a4fa6bd8158f"
   },
   "outputs": [
    {
     "name": "stdout",
     "output_type": "stream",
     "text": [
      "Total shoes 71957\n",
      "Total images 501863\n",
      "Total kind of shoes 28271\n",
      "Total brands 508\n",
      "Total categories 11\n",
      "Total genders 6\n"
     ]
    }
   ],
   "source": [
    "total_images = 0\n",
    "names = {}\n",
    "brands = {}\n",
    "categories = {}\n",
    "genders = {}\n",
    "\n",
    "for k, v in dataset.items():\n",
    "    total_images += len(v['images'])\n",
    "    \n",
    "    name = v['info']['name']\n",
    "    if name not in names:\n",
    "        names[name] = 1\n",
    "    else:\n",
    "        names[name] += 1\n",
    "    \n",
    "    brand = v['info']['brand']\n",
    "    if brand not in brands:\n",
    "        brands[brand] = 1\n",
    "    else:\n",
    "        brands[brand] += 1\n",
    "        \n",
    "    category = v['info']['category']\n",
    "    if category not in categories:\n",
    "        categories[category] = 1\n",
    "    else:\n",
    "        categories[category] += 1\n",
    "    \n",
    "    gender = v['info']['gender']\n",
    "    if gender not in genders:\n",
    "        genders[gender] = 1\n",
    "    else:\n",
    "        genders[gender] += 1\n",
    "\n",
    "print('Total shoes', len(dataset))\n",
    "print('Total images', total_images)\n",
    "print('Total kind of shoes', len(names))\n",
    "print('Total brands', len(brands))\n",
    "print('Total categories', len(categories))\n",
    "print('Total genders', len(genders))"
   ]
  },
  {
   "cell_type": "markdown",
   "metadata": {},
   "source": [
    "## Save as a new file"
   ]
  },
  {
   "cell_type": "code",
   "execution_count": null,
   "metadata": {},
   "outputs": [],
   "source": [
    "with open('preprocess_dataset.json', 'w') as f:\n",
    "    json.dump(dataset, f)"
   ]
  }
 ],
 "metadata": {
  "colab": {
   "collapsed_sections": [],
   "name": "preprocess_dataset.ipynb",
   "provenance": [],
   "toc_visible": true
  },
  "kernelspec": {
   "display_name": "Python 3",
   "language": "python",
   "name": "python3"
  },
  "language_info": {
   "codemirror_mode": {
    "name": "ipython",
    "version": 3
   },
   "file_extension": ".py",
   "mimetype": "text/x-python",
   "name": "python",
   "nbconvert_exporter": "python",
   "pygments_lexer": "ipython3",
   "version": "3.7.6"
  }
 },
 "nbformat": 4,
 "nbformat_minor": 1
}
